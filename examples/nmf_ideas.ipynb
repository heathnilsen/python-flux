{
 "cells": [
  {
   "cell_type": "code",
   "execution_count": 554,
   "metadata": {},
   "outputs": [
    {
     "name": "stdout",
     "output_type": "stream",
     "text": [
      "The autoreload extension is already loaded. To reload it, use:\n",
      "  %reload_ext autoreload\n"
     ]
    }
   ],
   "source": [
    "%load_ext autoreload\n",
    "%autoreload 2"
   ]
  },
  {
   "cell_type": "code",
   "execution_count": 553,
   "metadata": {},
   "outputs": [],
   "source": [
    "import colorcet as cc\n",
    "import matplotlib.pyplot as plt\n",
    "import numpy as np\n",
    "import spiceypy as spice\n",
    "import scipy.sparse.linalg\n",
    "\n",
    "from flux.form_factors import get_form_factor_block\n",
    "from flux.nmf import NmfBuilder\n",
    "from flux.quadtree import get_quadrant_order\n",
    "from flux.shape import TrimeshShapeModel\n",
    "\n",
    "from scipy.optimize import lsq_linear\n",
    "\n",
    "from sklearn.decomposition import NMF"
   ]
  },
  {
   "cell_type": "code",
   "execution_count": 21,
   "metadata": {},
   "outputs": [],
   "source": [
    "clktol = '10:000'\n",
    "\n",
    "spice.kclear()\n",
    "spice.furnsh('simple.furnsh')\n",
    "\n",
    "# Define time window\n",
    "\n",
    "et0 = spice.str2et('2011 MAR 01 00:00:00.00')\n",
    "et1 = spice.str2et('2011 APR 01 00:00:00.00')\n",
    "et = np.linspace(et0, et1, 100, endpoint=False)\n",
    "\n",
    "# Sun positions over time period\n",
    "\n",
    "possun = spice.spkpos('SUN', et, 'MOON_ME', 'LT+S', 'MOON')[0]\n",
    "lonsun = np.arctan2(possun[:, 1], possun[:, 0])\n",
    "lonsun = np.mod(lonsun, 2*np.pi)\n",
    "radsun = np.sqrt(np.sum(possun[:, :2]**2, axis=1))\n",
    "latsun = np.arctan2(possun[:, 2], radsun)\n",
    "\n",
    "sun_dirs = np.array([\n",
    "    np.cos(lonsun)*np.cos(latsun),\n",
    "    np.sin(lonsun)*np.cos(latsun),\n",
    "    np.sin(latsun)\n",
    "]).T\n",
    "\n",
    "# Use these temporary parameters...\n",
    "\n",
    "F0 = 1365 # Solar constant"
   ]
  },
  {
   "cell_type": "code",
   "execution_count": 4,
   "metadata": {},
   "outputs": [],
   "source": [
    "V = np.load('lsp_V.npy')\n",
    "F = np.load('lsp_F.npy')\n",
    "N = np.load('lsp_N.npy')\n",
    "shape_model = TrimeshShapeModel(V, F, N)\n",
    "FF_gt = get_form_factor_block(shape_model)"
   ]
  },
  {
   "cell_type": "code",
   "execution_count": 25,
   "metadata": {},
   "outputs": [],
   "source": [
    "E = shape_model.get_direct_irradiance(F0, sun_dirs)\n",
    "e = E[:, 0]"
   ]
  },
  {
   "cell_type": "code",
   "execution_count": 10,
   "metadata": {},
   "outputs": [],
   "source": [
    "P = V[F].mean(1)\n",
    "I = get_quadrant_order(P[:, :2])"
   ]
  },
  {
   "cell_type": "code",
   "execution_count": 11,
   "metadata": {},
   "outputs": [],
   "source": [
    "inds1, inds2 = I[0], I[2]"
   ]
  },
  {
   "cell_type": "code",
   "execution_count": 28,
   "metadata": {},
   "outputs": [],
   "source": [
    "block_gt = FF_gt[inds2, :][:, inds1]"
   ]
  },
  {
   "cell_type": "code",
   "execution_count": 22,
   "metadata": {},
   "outputs": [],
   "source": [
    "nmf = NMF(n_components=5, init='nndsvd', max_iter=1000)\n",
    "W = nmf.fit_transform(FF_gt[inds2, :][:, inds1])\n",
    "H = nmf.components_; W = scipy.sparse.csc_matrix(W)\n",
    "H = scipy.sparse.csr_matrix(H)"
   ]
  },
  {
   "cell_type": "code",
   "execution_count": 41,
   "metadata": {},
   "outputs": [],
   "source": [
    "thresh_perc = 5e-3"
   ]
  },
  {
   "cell_type": "code",
   "execution_count": 42,
   "metadata": {},
   "outputs": [
    {
     "name": "stdout",
     "output_type": "stream",
     "text": [
      "35567\n"
     ]
    }
   ],
   "source": [
    "res = (block_gt - W@H).toarray(); res_trunc = res.copy()\n",
    "res_trunc[abs(res_trunc) < thresh_perc*abs(res).max()] = 0\n",
    "print((res_trunc != 0).sum())\n",
    "res_trunc = scipy.sparse.csr_matrix(res_trunc)"
   ]
  },
  {
   "cell_type": "code",
   "execution_count": 43,
   "metadata": {},
   "outputs": [
    {
     "data": {
      "image/png": "[encoded data removed]",
      "text/plain": [
       "<Figure size 720x576 with 2 Axes>"
      ]
     },
     "metadata": {
      "needs_background": "light"
     },
     "output_type": "display_data"
    }
   ],
   "source": [
    "tmp = W@(H@(e[inds1])) + res_trunc@e[inds1] - block_gt@e[inds1]\n",
    "plt.figure(figsize=(10, 8))\n",
    "plt.tripcolor(*V[:,:2].T, F[inds2], tmp, cmap=cc.cm.coolwarm, vmin=-abs(tmp).max(), vmax=abs(tmp).max())\n",
    "plt.colorbar()\n",
    "plt.gca().set_aspect('equal')\n",
    "plt.show()"
   ]
  },
  {
   "cell_type": "markdown",
   "metadata": {},
   "source": [
    "Okay, let's try to compute the NMF _on our own_..."
   ]
  },
  {
   "cell_type": "code",
   "execution_count": 47,
   "metadata": {},
   "outputs": [],
   "source": [
    "k = 5\n",
    "m, n = block_gt.shape"
   ]
  },
  {
   "cell_type": "code",
   "execution_count": 198,
   "metadata": {},
   "outputs": [],
   "source": [
    "class MatMulOperator(scipy.sparse.linalg.LinearOperator):\n",
    "\n",
    "    def __init__(self, A, p):\n",
    "        self.A = A\n",
    "        self.p = p\n",
    "\n",
    "    @property\n",
    "    def m(self):\n",
    "        return self.A.shape[0]\n",
    "    \n",
    "    @property\n",
    "    def n(self):\n",
    "        return self.A.shape[1]\n",
    "\n",
    "    @property\n",
    "    def shape(self):\n",
    "        return (self.m*self.p, self.p*self.n)\n",
    "    \n",
    "    @property\n",
    "    def dtype(self):\n",
    "        return self.A.dtype\n",
    "\n",
    "    def _matvec(self, b):\n",
    "        print('_matvec')\n",
    "        return (self.A@b.reshape(self.n, self.p)).ravel()\n",
    "    \n",
    "    def _rmatvec(self, b):\n",
    "        print('_rmatvec')\n",
    "        return (self.A.T@b.reshape(self.m, b.size//self.m)).T.ravel()"
   ]
  },
  {
   "cell_type": "markdown",
   "metadata": {},
   "source": [
    "$f(w, h) = \\frac{1}{2}\\|A - w h^\\top\\|^2, \\quad w \\geq 0, \\quad h \\geq 0$\n",
    "\n",
    "$f_w = (A - w h^\\top) h = A h - \\|h\\|^2 w$\n",
    "\n",
    "$f_h = (A - w h^\\top)^\\top w = A^\\top w - \\|w\\|^2 h$\n",
    "\n",
    "$w^+ \\gets w + \\alpha f_w, \\quad 0 \\leq f(w + \\alpha f_w, h) = \\frac{1}{2}\\|A - (w + \\alpha f_w) h^\\top\\|^2$"
   ]
  },
  {
   "cell_type": "markdown",
   "metadata": {},
   "source": [
    "$w^+ = w + \\alpha f_w = w + \\alpha (A h - \\|h\\|^2 w)$\n",
    "\n",
    "$\\alpha = \\mbox{arg}\\max_{\\alpha \\geq 0} \\left\\{w_i + \\alpha (A h - \\|h\\|^2 w)_i \\geq 0, i = 1, ..., m\\right\\}$"
   ]
  },
  {
   "cell_type": "code",
   "execution_count": 395,
   "metadata": {},
   "outputs": [
    {
     "name": "stdout",
     "output_type": "stream",
     "text": [
      "0.007475402537405055 4900.499974492399\n"
     ]
    }
   ],
   "source": [
    "A = block_gt.toarray()\n",
    "m, n = A.shape\n",
    "mean = np.mean(A)\n",
    "w = np.ones(m)\n",
    "h = np.ones(n)\n",
    "print(norm, np.linalg.norm(np.outer(w, h)))"
   ]
  },
  {
   "cell_type": "code",
   "execution_count": 396,
   "metadata": {},
   "outputs": [
    {
     "name": "stdout",
     "output_type": "stream",
     "text": [
      "4900.49987793182\n"
     ]
    }
   ],
   "source": [
    "R = A - np.outer(w, h)\n",
    "print(np.linalg.norm(R, 'fro'))"
   ]
  },
  {
   "cell_type": "code",
   "execution_count": 401,
   "metadata": {},
   "outputs": [
    {
     "name": "stdout",
     "output_type": "stream",
     "text": [
      "3350 871\n",
      "0.0045065503328216\n"
     ]
    }
   ],
   "source": [
    "Ap = R + np.outer(w, h)\n",
    "h = np.maximum(0, Ap.T@w)\n",
    "w = np.maximum(0, Ap@h)\n",
    "w /= np.linalg.norm(w)\n",
    "R = Ap - np.outer(w, h)\n",
    "print((w != 0).sum(), (h != 0).sum())\n",
    "print(np.linalg.norm(R, 'fro'))"
   ]
  },
  {
   "cell_type": "code",
   "execution_count": 406,
   "metadata": {},
   "outputs": [
    {
     "data": {
      "text/plain": [
       "344734"
      ]
     },
     "execution_count": 406,
     "metadata": {},
     "output_type": "execute_result"
    }
   ],
   "source": [
    "(A != 0).sum()"
   ]
  },
  {
   "cell_type": "code",
   "execution_count": 559,
   "metadata": {},
   "outputs": [],
   "source": [
    "nmf_builder = NmfBuilder(A)"
   ]
  },
  {
   "cell_type": "code",
   "execution_count": 564,
   "metadata": {},
   "outputs": [
    {
     "name": "stdout",
     "output_type": "stream",
     "text": [
      "0.9999201181020699\n",
      "0.003698092355103473\n",
      "0.0029821274512413128\n"
     ]
    }
   ],
   "source": [
    "nmf_builder.solve(tol=1e-4)"
   ]
  },
  {
   "cell_type": "code",
   "execution_count": 563,
   "metadata": {},
   "outputs": [],
   "source": [
    "nmf_builder.add_term()"
   ]
  },
  {
   "cell_type": "code",
   "execution_count": 508,
   "metadata": {},
   "outputs": [],
   "source": [
    "i0, j0, bsize = 700, 2600, 512"
   ]
  },
  {
   "cell_type": "code",
   "execution_count": 521,
   "metadata": {},
   "outputs": [
    {
     "data": {
      "text/plain": [
       "<matplotlib.colorbar.Colorbar at 0x1411aeed0>"
      ]
     },
     "execution_count": 521,
     "metadata": {},
     "output_type": "execute_result"
    },
    {
     "data": {
      "image/png": "[encoded data removed]",
      "text/plain": [
       "<Figure size 576x468 with 2 Axes>"
      ]
     },
     "metadata": {
      "needs_background": "light"
     },
     "output_type": "display_data"
    }
   ],
   "source": [
    "plt.figure(figsize=(8, 6.5))\n",
    "plt.imshow(np.log10(np.maximum(1e-16, A[i0:i0+bsize, j0:j0+bsize])), \n",
    "           cmap=cc.cm.bmy, vmin=-16, vmax=-5)\n",
    "plt.colorbar()"
   ]
  },
  {
   "cell_type": "code",
   "execution_count": 565,
   "metadata": {},
   "outputs": [
    {
     "data": {
      "text/plain": [
       "<matplotlib.colorbar.Colorbar at 0x14132bd50>"
      ]
     },
     "execution_count": 565,
     "metadata": {},
     "output_type": "execute_result"
    },
    {
     "data": {
      "image/png": "[encoded data removed]",
      "text/plain": [
       "<Figure size 576x468 with 2 Axes>"
      ]
     },
     "metadata": {
      "needs_background": "light"
     },
     "output_type": "display_data"
    }
   ],
   "source": [
    "plt.figure(figsize=(8, 6.5))\n",
    "plt.imshow(np.log10(np.maximum(1e-16, np.outer(nmf_builder.W, nmf_builder.H)[i0:i0+bsize, j0:j0+bsize])), \n",
    "           vmin=-16, vmax=-5, cmap=cc.cm.bmy)\n",
    "plt.colorbar()"
   ]
  }
 ],
 "metadata": {
  "kernelspec": {
   "display_name": "Python 3",
   "language": "python",
   "name": "python3"
  },
  "language_info": {
   "codemirror_mode": {
    "name": "ipython",
    "version": 3
   },
   "file_extension": ".py",
   "mimetype": "text/x-python",
   "name": "python",
   "nbconvert_exporter": "python",
   "pygments_lexer": "ipython3",
   "version": "3.7.9"
  }
 },
 "nbformat": 4,
 "nbformat_minor": 4
}
